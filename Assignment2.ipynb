{
 "cells": [
  {
   "cell_type": "markdown",
   "id": "7cc6ac6b",
   "metadata": {},
   "source": [
    "# Assignment 2"
   ]
  },
  {
   "cell_type": "code",
   "execution_count": 1,
   "id": "b6f866b8",
   "metadata": {},
   "outputs": [],
   "source": [
    "import numpy as np\n",
    "import pandas as pd\n",
    "import matplotlib.pyplot as plt\n",
    "from sklearn import preprocessing\n",
    "\n",
    "# Forces removal of some deprecated behaviors in pandas.\n",
    "pd.set_option('future.no_silent_downcasting', True)"
   ]
  },
  {
   "cell_type": "code",
   "execution_count": 2,
   "id": "81094d5a",
   "metadata": {},
   "outputs": [
    {
     "data": {
      "application/vnd.microsoft.datawrangler.viewer.v0+json": {
       "columns": [
        {
         "name": "index",
         "rawType": "object",
         "type": "string"
        },
        {
         "name": "price",
         "rawType": "float64",
         "type": "float"
        },
        {
         "name": "area",
         "rawType": "float64",
         "type": "float"
        },
        {
         "name": "bedrooms",
         "rawType": "float64",
         "type": "float"
        },
        {
         "name": "bathrooms",
         "rawType": "float64",
         "type": "float"
        },
        {
         "name": "stories",
         "rawType": "float64",
         "type": "float"
        },
        {
         "name": "mainroad",
         "rawType": "float64",
         "type": "float"
        },
        {
         "name": "guestroom",
         "rawType": "float64",
         "type": "float"
        },
        {
         "name": "basement",
         "rawType": "float64",
         "type": "float"
        },
        {
         "name": "hotwaterheating",
         "rawType": "float64",
         "type": "float"
        },
        {
         "name": "airconditioning",
         "rawType": "float64",
         "type": "float"
        },
        {
         "name": "parking",
         "rawType": "float64",
         "type": "float"
        },
        {
         "name": "prefarea",
         "rawType": "float64",
         "type": "float"
        }
       ],
       "ref": "d76d0367-8ba9-405c-9771-1325c0a38813",
       "rows": [
        [
         "count",
         "436.0",
         "436.0",
         "436.0",
         "436.0",
         "436.0",
         "436.0",
         "436.0",
         "436.0",
         "436.0",
         "436.0",
         "436.0",
         "436.0"
        ],
        [
         "mean",
         "4746431.3990825685",
         "5132.231651376147",
         "2.9311926605504586",
         "1.2821100917431192",
         "1.7958715596330275",
         "0.8577981651376146",
         "0.18807339449541285",
         "0.34174311926605505",
         "0.04128440366972477",
         "0.3165137614678899",
         "0.6903669724770642",
         "0.231651376146789"
        ],
        [
         "std",
         "1862407.053599486",
         "2152.938969405402",
         "0.7395801539900146",
         "0.4989655015729961",
         "0.8720863724060895",
         "0.3496582444397265",
         "0.39121967151777265",
         "0.4748388116813783",
         "0.19917577712406923",
         "0.4656502089031701",
         "0.8619671984643698",
         "0.42237209451854996"
        ],
        [
         "min",
         "1750000.0",
         "1650.0",
         "1.0",
         "1.0",
         "1.0",
         "0.0",
         "0.0",
         "0.0",
         "0.0",
         "0.0",
         "0.0",
         "0.0"
        ],
        [
         "25%",
         "3428250.0",
         "3520.0",
         "2.0",
         "1.0",
         "1.0",
         "1.0",
         "0.0",
         "0.0",
         "0.0",
         "0.0",
         "0.0",
         "0.0"
        ],
        [
         "50%",
         "4329500.0",
         "4600.0",
         "3.0",
         "1.0",
         "2.0",
         "1.0",
         "0.0",
         "0.0",
         "0.0",
         "0.0",
         "0.0",
         "0.0"
        ],
        [
         "75%",
         "5804750.0",
         "6360.0",
         "3.0",
         "2.0",
         "2.0",
         "1.0",
         "0.0",
         "1.0",
         "0.0",
         "1.0",
         "1.0",
         "0.0"
        ],
        [
         "max",
         "13300000.0",
         "15600.0",
         "6.0",
         "4.0",
         "4.0",
         "1.0",
         "1.0",
         "1.0",
         "1.0",
         "1.0",
         "3.0",
         "1.0"
        ]
       ],
       "shape": {
        "columns": 12,
        "rows": 8
       }
      },
      "text/html": [
       "<div>\n",
       "<style scoped>\n",
       "    .dataframe tbody tr th:only-of-type {\n",
       "        vertical-align: middle;\n",
       "    }\n",
       "\n",
       "    .dataframe tbody tr th {\n",
       "        vertical-align: top;\n",
       "    }\n",
       "\n",
       "    .dataframe thead th {\n",
       "        text-align: right;\n",
       "    }\n",
       "</style>\n",
       "<table border=\"1\" class=\"dataframe\">\n",
       "  <thead>\n",
       "    <tr style=\"text-align: right;\">\n",
       "      <th></th>\n",
       "      <th>price</th>\n",
       "      <th>area</th>\n",
       "      <th>bedrooms</th>\n",
       "      <th>bathrooms</th>\n",
       "      <th>stories</th>\n",
       "      <th>mainroad</th>\n",
       "      <th>guestroom</th>\n",
       "      <th>basement</th>\n",
       "      <th>hotwaterheating</th>\n",
       "      <th>airconditioning</th>\n",
       "      <th>parking</th>\n",
       "      <th>prefarea</th>\n",
       "    </tr>\n",
       "  </thead>\n",
       "  <tbody>\n",
       "    <tr>\n",
       "      <th>count</th>\n",
       "      <td>4.360000e+02</td>\n",
       "      <td>436.000000</td>\n",
       "      <td>436.000000</td>\n",
       "      <td>436.000000</td>\n",
       "      <td>436.000000</td>\n",
       "      <td>436.000000</td>\n",
       "      <td>436.000000</td>\n",
       "      <td>436.000000</td>\n",
       "      <td>436.000000</td>\n",
       "      <td>436.000000</td>\n",
       "      <td>436.000000</td>\n",
       "      <td>436.000000</td>\n",
       "    </tr>\n",
       "    <tr>\n",
       "      <th>mean</th>\n",
       "      <td>4.746431e+06</td>\n",
       "      <td>5132.231651</td>\n",
       "      <td>2.931193</td>\n",
       "      <td>1.282110</td>\n",
       "      <td>1.795872</td>\n",
       "      <td>0.857798</td>\n",
       "      <td>0.188073</td>\n",
       "      <td>0.341743</td>\n",
       "      <td>0.041284</td>\n",
       "      <td>0.316514</td>\n",
       "      <td>0.690367</td>\n",
       "      <td>0.231651</td>\n",
       "    </tr>\n",
       "    <tr>\n",
       "      <th>std</th>\n",
       "      <td>1.862407e+06</td>\n",
       "      <td>2152.938969</td>\n",
       "      <td>0.739580</td>\n",
       "      <td>0.498966</td>\n",
       "      <td>0.872086</td>\n",
       "      <td>0.349658</td>\n",
       "      <td>0.391220</td>\n",
       "      <td>0.474839</td>\n",
       "      <td>0.199176</td>\n",
       "      <td>0.465650</td>\n",
       "      <td>0.861967</td>\n",
       "      <td>0.422372</td>\n",
       "    </tr>\n",
       "    <tr>\n",
       "      <th>min</th>\n",
       "      <td>1.750000e+06</td>\n",
       "      <td>1650.000000</td>\n",
       "      <td>1.000000</td>\n",
       "      <td>1.000000</td>\n",
       "      <td>1.000000</td>\n",
       "      <td>0.000000</td>\n",
       "      <td>0.000000</td>\n",
       "      <td>0.000000</td>\n",
       "      <td>0.000000</td>\n",
       "      <td>0.000000</td>\n",
       "      <td>0.000000</td>\n",
       "      <td>0.000000</td>\n",
       "    </tr>\n",
       "    <tr>\n",
       "      <th>25%</th>\n",
       "      <td>3.428250e+06</td>\n",
       "      <td>3520.000000</td>\n",
       "      <td>2.000000</td>\n",
       "      <td>1.000000</td>\n",
       "      <td>1.000000</td>\n",
       "      <td>1.000000</td>\n",
       "      <td>0.000000</td>\n",
       "      <td>0.000000</td>\n",
       "      <td>0.000000</td>\n",
       "      <td>0.000000</td>\n",
       "      <td>0.000000</td>\n",
       "      <td>0.000000</td>\n",
       "    </tr>\n",
       "    <tr>\n",
       "      <th>50%</th>\n",
       "      <td>4.329500e+06</td>\n",
       "      <td>4600.000000</td>\n",
       "      <td>3.000000</td>\n",
       "      <td>1.000000</td>\n",
       "      <td>2.000000</td>\n",
       "      <td>1.000000</td>\n",
       "      <td>0.000000</td>\n",
       "      <td>0.000000</td>\n",
       "      <td>0.000000</td>\n",
       "      <td>0.000000</td>\n",
       "      <td>0.000000</td>\n",
       "      <td>0.000000</td>\n",
       "    </tr>\n",
       "    <tr>\n",
       "      <th>75%</th>\n",
       "      <td>5.804750e+06</td>\n",
       "      <td>6360.000000</td>\n",
       "      <td>3.000000</td>\n",
       "      <td>2.000000</td>\n",
       "      <td>2.000000</td>\n",
       "      <td>1.000000</td>\n",
       "      <td>0.000000</td>\n",
       "      <td>1.000000</td>\n",
       "      <td>0.000000</td>\n",
       "      <td>1.000000</td>\n",
       "      <td>1.000000</td>\n",
       "      <td>0.000000</td>\n",
       "    </tr>\n",
       "    <tr>\n",
       "      <th>max</th>\n",
       "      <td>1.330000e+07</td>\n",
       "      <td>15600.000000</td>\n",
       "      <td>6.000000</td>\n",
       "      <td>4.000000</td>\n",
       "      <td>4.000000</td>\n",
       "      <td>1.000000</td>\n",
       "      <td>1.000000</td>\n",
       "      <td>1.000000</td>\n",
       "      <td>1.000000</td>\n",
       "      <td>1.000000</td>\n",
       "      <td>3.000000</td>\n",
       "      <td>1.000000</td>\n",
       "    </tr>\n",
       "  </tbody>\n",
       "</table>\n",
       "</div>"
      ],
      "text/plain": [
       "              price          area    bedrooms   bathrooms     stories  \\\n",
       "count  4.360000e+02    436.000000  436.000000  436.000000  436.000000   \n",
       "mean   4.746431e+06   5132.231651    2.931193    1.282110    1.795872   \n",
       "std    1.862407e+06   2152.938969    0.739580    0.498966    0.872086   \n",
       "min    1.750000e+06   1650.000000    1.000000    1.000000    1.000000   \n",
       "25%    3.428250e+06   3520.000000    2.000000    1.000000    1.000000   \n",
       "50%    4.329500e+06   4600.000000    3.000000    1.000000    2.000000   \n",
       "75%    5.804750e+06   6360.000000    3.000000    2.000000    2.000000   \n",
       "max    1.330000e+07  15600.000000    6.000000    4.000000    4.000000   \n",
       "\n",
       "         mainroad   guestroom    basement  hotwaterheating  airconditioning  \\\n",
       "count  436.000000  436.000000  436.000000       436.000000       436.000000   \n",
       "mean     0.857798    0.188073    0.341743         0.041284         0.316514   \n",
       "std      0.349658    0.391220    0.474839         0.199176         0.465650   \n",
       "min      0.000000    0.000000    0.000000         0.000000         0.000000   \n",
       "25%      1.000000    0.000000    0.000000         0.000000         0.000000   \n",
       "50%      1.000000    0.000000    0.000000         0.000000         0.000000   \n",
       "75%      1.000000    0.000000    1.000000         0.000000         1.000000   \n",
       "max      1.000000    1.000000    1.000000         1.000000         1.000000   \n",
       "\n",
       "          parking    prefarea  \n",
       "count  436.000000  436.000000  \n",
       "mean     0.690367    0.231651  \n",
       "std      0.861967    0.422372  \n",
       "min      0.000000    0.000000  \n",
       "25%      0.000000    0.000000  \n",
       "50%      0.000000    0.000000  \n",
       "75%      1.000000    0.000000  \n",
       "max      3.000000    1.000000  "
      ]
     },
     "execution_count": 2,
     "metadata": {},
     "output_type": "execute_result"
    }
   ],
   "source": [
    "df = pd.read_csv(\"Housing.csv\")\n",
    "\n",
    "# Replace \"yes\" and \"no\" with 1 and 0.\n",
    "df = df.replace({\"yes\", \"no\"}, {1, 0}).infer_objects(copy=False)\n",
    "\n",
    "# Split into train and test datasets with 80% / 20% split\n",
    "train = df.sample(frac=0.8, random_state=1)\n",
    "test = df.drop(train.index)\n",
    "\n",
    "train.describe()"
   ]
  },
  {
   "cell_type": "markdown",
   "id": "18234898",
   "metadata": {},
   "source": [
    "### Cost function and gradient descent for problems 1 and 2"
   ]
  },
  {
   "cell_type": "code",
   "execution_count": 3,
   "id": "7bbad67a",
   "metadata": {},
   "outputs": [],
   "source": [
    "def cost(theta, X, Y):\n",
    "    error = X.dot(theta) - Y\n",
    "    cost = np.sum(np.square(error)) / (2* len(Y))\n",
    "    return cost\n",
    "\n",
    "def grad_desc(iterations, theta, learning_rate, X, Y, X_test, Y_test):\n",
    "    cost_history = np.zeros(iterations)\n",
    "    val_history = np.zeros(iterations)\n",
    "    for i in range(iterations):\n",
    "        errors = X.dot(theta) - Y\n",
    "        partials = errors.dot(X)\n",
    "        theta -= (learning_rate / len(Y)) * partials\n",
    "        # Update losses\n",
    "        cost_history[i] = cost(theta, X,Y)\n",
    "        val_history[i] = cost(theta, X_test, Y_test)\n",
    "    return theta, cost_history, val_history"
   ]
  },
  {
   "cell_type": "markdown",
   "id": "90014c37",
   "metadata": {},
   "source": [
    "## Problem 1a"
   ]
  },
  {
   "cell_type": "code",
   "execution_count": 4,
   "id": "c48796cc",
   "metadata": {},
   "outputs": [],
   "source": [
    "# Set up our training data\n",
    "Y = train.price.to_numpy()\n",
    "X = train[['area', 'bedrooms', 'bathrooms', 'stories', 'parking']].to_numpy()\n",
    "X_0 = np.ones((len(X),1))\n",
    "X = np.hstack((X_0, X))\n",
    "\n",
    "# Set up our testing data\n",
    "Y_test = test.price.to_numpy()\n",
    "X_test = test[['area', 'bedrooms', 'bathrooms', 'stories', 'parking']].to_numpy()\n",
    "X_0 = np.ones((len(X_test),1))\n",
    "X_test = np.hstack((X_0, X_test))"
   ]
  },
  {
   "cell_type": "code",
   "execution_count": 5,
   "id": "030db620",
   "metadata": {},
   "outputs": [
    {
     "name": "stdout",
     "output_type": "stream",
     "text": [
      "Theta:       [ 43.49272125 854.26820665 165.08367069  93.48292697 144.88644639\n",
      "  33.80054902]\n",
      "Train Loss:  [1.69146285e+12 1.69146260e+12 1.69146235e+12 1.69146210e+12\n",
      " 1.69146185e+12]\n",
      "Test Loss:   [1.59871417e+12 1.59871392e+12 1.59871368e+12 1.59871344e+12\n",
      " 1.59871320e+12]\n"
     ]
    },
    {
     "data": {
      "image/png": "[encoded data removed]",
      "text/plain": [
       "<Figure size 640x480 with 1 Axes>"
      ]
     },
     "metadata": {},
     "output_type": "display_data"
    }
   ],
   "source": [
    "# Training hyperparameters\n",
    "learning_rate = 0.00000006\n",
    "iterations = 2000\n",
    "theta_0 = np.zeros(X.shape[1])\n",
    "\n",
    "# Train the model\n",
    "theta, cost_h, validation_h = grad_desc(iterations, theta_0, learning_rate, X, Y, X_test, Y_test)\n",
    "\n",
    "print(\"Theta:      \", theta)\n",
    "print(\"Train Loss: \", cost_h[-5:])\n",
    "print(\"Test Loss:  \", validation_h[-5:])\n",
    "\n",
    "# Plot the results\n",
    "plt.figure()\n",
    "plt.plot(range(1, iterations+1), cost_h, color=\"blue\", label=\"Training loss\", linewidth=1)\n",
    "plt.plot(range(1, iterations+1), validation_h, color=\"red\", label=\"Validation loss\", linewidth=1)\n",
    "plt.legend();"
   ]
  },
  {
   "cell_type": "markdown",
   "id": "88130d54",
   "metadata": {},
   "source": [
    "## Problem 1b"
   ]
  },
  {
   "cell_type": "code",
   "execution_count": 6,
   "id": "b344e6d6",
   "metadata": {},
   "outputs": [],
   "source": [
    "# Set up our training data\n",
    "Y = train.price.to_numpy()\n",
    "X = train[['area', 'bedrooms', 'bathrooms', 'stories', 'mainroad', 'guestroom',\n",
    "           'basement', 'hotwaterheating', 'airconditioning', 'parking', 'prefarea']].to_numpy()\n",
    "X_0 = np.ones((len(X),1))\n",
    "X = np.hstack((X_0, X))\n",
    "\n",
    "# Set up our testing data\n",
    "Y_test = test.price.to_numpy()\n",
    "X_test = test[['area', 'bedrooms', 'bathrooms', 'stories', 'mainroad', 'guestroom',\n",
    "           'basement', 'hotwaterheating', 'airconditioning', 'parking', 'prefarea']].to_numpy()\n",
    "X_0 = np.ones((len(X_test),1))\n",
    "X_test = np.hstack((X_0, X_test))"
   ]
  },
  {
   "cell_type": "code",
   "execution_count": 7,
   "id": "8dad781f",
   "metadata": {},
   "outputs": [
    {
     "name": "stdout",
     "output_type": "stream",
     "text": [
      "Theta:       [ 43.49242416 854.25721783 165.08271918  93.48246263 144.8857358\n",
      "  37.18451829  18.14391162  26.08142705   6.70443091  39.7681697\n",
      "  33.80045437  18.3032828 ]\n",
      "Train Loss:  [1.69142672e+12 1.69142645e+12 1.69142619e+12 1.69142592e+12\n",
      " 1.69142565e+12]\n",
      "Test Loss:   [1.59867519e+12 1.59867493e+12 1.59867467e+12 1.59867441e+12\n",
      " 1.59867415e+12]\n"
     ]
    },
    {
     "data": {
      "image/png": "[encoded data removed]",
      "text/plain": [
       "<Figure size 640x480 with 1 Axes>"
      ]
     },
     "metadata": {},
     "output_type": "display_data"
    }
   ],
   "source": [
    "# Training hyperparameters\n",
    "learning_rate = 0.00000006\n",
    "iterations = 2000\n",
    "theta_0 = np.zeros(X.shape[1])\n",
    "\n",
    "# Train the model\n",
    "theta, cost_h, validation_h = grad_desc(iterations, theta_0, learning_rate, X, Y, X_test, Y_test)\n",
    "\n",
    "print(\"Theta:      \", theta)\n",
    "print(\"Train Loss: \", cost_h[-5:])\n",
    "print(\"Test Loss:  \", validation_h[-5:])\n",
    "\n",
    "# Plot the results\n",
    "plt.figure()\n",
    "plt.plot(range(1, iterations+1), cost_h, color=\"blue\", label=\"Training loss\", linewidth=1)\n",
    "plt.plot(range(1, iterations+1), validation_h, color=\"red\", label=\"Validation loss\", linewidth=1)\n",
    "plt.legend();"
   ]
  },
  {
   "cell_type": "markdown",
   "id": "623aa487",
   "metadata": {},
   "source": [
    "## Problem 2a\n",
    "### MIN MAX Normalization Approach"
   ]
  },
  {
   "cell_type": "code",
   "execution_count": 8,
   "id": "a0180371",
   "metadata": {},
   "outputs": [],
   "source": [
    "# Set up our training data\n",
    "Y = train.price.to_numpy()\n",
    "X = train[['area', 'bedrooms', 'bathrooms', 'stories', 'parking']].to_numpy()\n",
    "\n",
    "# Set up our testing data\n",
    "Y_test = test.price.to_numpy()\n",
    "X_test = test[['area', 'bedrooms', 'bathrooms', 'stories', 'parking']].to_numpy()\n",
    "\n",
    "# Scale features using MIN MAX normalization\n",
    "scaler = preprocessing.MinMaxScaler()\n",
    "\n",
    "scaler.fit(X)\n",
    "X = scaler.transform(X)\n",
    "X_test = scaler.transform(X_test)\n",
    "\n",
    "# Add row of ones to each.\n",
    "X_0 = np.ones((len(X),1))\n",
    "X = np.hstack((X_0, X))\n",
    "\n",
    "X_0 = np.ones((len(X_test),1))\n",
    "X_test = np.hstack((X_0, X_test))"
   ]
  },
  {
   "cell_type": "code",
   "execution_count": 9,
   "id": "49fcee98",
   "metadata": {},
   "outputs": [
    {
     "name": "stdout",
     "output_type": "stream",
     "text": [
      "Theta:       [2364938.94951025 3192331.66660325 1370992.87186982 2595092.78926102\n",
      " 1788785.70746482 1481425.72294357]\n",
      "Train Loss:  [7.88801392e+11 7.88695555e+11 7.88590165e+11 7.88485219e+11\n",
      " 7.88380715e+11]\n",
      "Test Loss:   [8.32952255e+11 8.32781498e+11 8.32611379e+11 8.32441896e+11\n",
      " 8.32273045e+11]\n"
     ]
    },
    {
     "data": {
      "image/png": "[encoded data removed]",
      "text/plain": [
       "<Figure size 640x480 with 1 Axes>"
      ]
     },
     "metadata": {},
     "output_type": "display_data"
    }
   ],
   "source": [
    "# Training hyperparameters\n",
    "learning_rate = 0.1\n",
    "iterations = 500\n",
    "theta_0 = np.zeros(X.shape[1])\n",
    "\n",
    "# Train the model\n",
    "theta, cost_h, validation_h = grad_desc(iterations, theta_0, learning_rate, X, Y, X_test, Y_test)\n",
    "\n",
    "print(\"Theta:      \", theta)\n",
    "print(\"Train Loss: \", cost_h[-5:])\n",
    "print(\"Test Loss:  \", validation_h[-5:])\n",
    "\n",
    "# Plot the results\n",
    "plt.figure()\n",
    "plt.plot(range(1, iterations+1), cost_h, color=\"blue\", label=\"Training loss\", linewidth=1)\n",
    "plt.plot(range(1, iterations+1), validation_h, color=\"red\", label=\"Validation loss\", linewidth=1)\n",
    "plt.legend();"
   ]
  },
  {
   "cell_type": "markdown",
   "id": "da648f31",
   "metadata": {},
   "source": [
    "### Standardization Approach:"
   ]
  },
  {
   "cell_type": "code",
   "execution_count": 10,
   "id": "29263a6f",
   "metadata": {},
   "outputs": [],
   "source": [
    "# Set up our training data\n",
    "Y = train.price.to_numpy()\n",
    "X = train[['area', 'bedrooms', 'bathrooms', 'stories', 'parking']].to_numpy()\n",
    "\n",
    "# Set up our testing data\n",
    "Y_test = test.price.to_numpy()\n",
    "X_test = test[['area', 'bedrooms', 'bathrooms', 'stories', 'parking']].to_numpy()\n",
    "\n",
    "# Scale features using standardization.\n",
    "scaler = preprocessing.StandardScaler()\n",
    "\n",
    "scaler.fit(X)\n",
    "X = scaler.transform(X)\n",
    "X_test = scaler.transform(X_test)\n",
    "\n",
    "# Add row of ones to each.\n",
    "X_0 = np.ones((len(X),1))\n",
    "X = np.hstack((X_0, X))\n",
    "\n",
    "X_0 = np.ones((len(X_test),1))\n",
    "X_test = np.hstack((X_0, X_test))"
   ]
  },
  {
   "cell_type": "code",
   "execution_count": 11,
   "id": "4de6f9f5",
   "metadata": {},
   "outputs": [
    {
     "name": "stdout",
     "output_type": "stream",
     "text": [
      "Theta:       [4721969.35861473  679844.60499427  155365.86170515  561955.52500774\n",
      "  473703.71559202  321177.03289402]\n",
      "Cost:        [7.63487585e+11 7.63336160e+11 7.63212070e+11 7.63110288e+11\n",
      " 7.63026721e+11]\n",
      "Validation:  [7.81302263e+11 7.81146455e+11 7.81015497e+11 7.80904834e+11\n",
      " 7.80810778e+11]\n"
     ]
    },
    {
     "data": {
      "image/png": "[encoded data removed]",
      "text/plain": [
       "<Figure size 640x480 with 1 Axes>"
      ]
     },
     "metadata": {},
     "output_type": "display_data"
    }
   ],
   "source": [
    "# Training hyperparameters\n",
    "learning_rate = 0.1\n",
    "iterations = 50\n",
    "theta_0 = np.zeros(X.shape[1])\n",
    "\n",
    "# Train the model\n",
    "theta, cost_h, validation_h = grad_desc(iterations, theta_0, learning_rate, X, Y, X_test, Y_test)\n",
    "\n",
    "print(\"Theta:      \", theta)\n",
    "print(\"Cost:       \", cost_h[-5:])\n",
    "print(\"Validation: \", validation_h[-5:])\n",
    "# Plot the results\n",
    "plt.figure()\n",
    "plt.plot(range(1, iterations+1), cost_h, color=\"blue\", label=\"Training loss\", linewidth=1)\n",
    "plt.plot(range(1, iterations+1), validation_h, color=\"red\", label=\"Validation loss\", linewidth=1)\n",
    "plt.legend();"
   ]
  },
  {
   "cell_type": "markdown",
   "id": "bcd49a42",
   "metadata": {},
   "source": [
    "## Problem 2b\n",
    "### MIN MAX Normalization Approach"
   ]
  },
  {
   "cell_type": "code",
   "execution_count": 12,
   "id": "9db827e7",
   "metadata": {},
   "outputs": [],
   "source": [
    "# Set up our training data\n",
    "Y = train.price.to_numpy()\n",
    "X = train[['area', 'bedrooms', 'bathrooms', 'stories', 'mainroad', 'guestroom',\n",
    "           'basement', 'hotwaterheating', 'airconditioning', 'parking', 'prefarea']].to_numpy()\n",
    "\n",
    "# Set up our testing data\n",
    "Y_test = test.price.to_numpy()\n",
    "X_test = test[['area', 'bedrooms', 'bathrooms', 'stories', 'mainroad', 'guestroom',\n",
    "           'basement', 'hotwaterheating', 'airconditioning', 'parking', 'prefarea']].to_numpy()\n",
    "\n",
    "# Scale features using standardization.\n",
    "scaler = preprocessing.MinMaxScaler()\n",
    "\n",
    "scaler.fit(X)\n",
    "X = scaler.transform(X)\n",
    "X_test = scaler.transform(X_test)\n",
    "\n",
    "# Add row of ones to each.\n",
    "X_0 = np.ones((len(X),1))\n",
    "X = np.hstack((X_0, X))\n",
    "\n",
    "X_0 = np.ones((len(X_test),1))\n",
    "X_test = np.hstack((X_0, X_test))"
   ]
  },
  {
   "cell_type": "code",
   "execution_count": 13,
   "id": "8c2fa2ff",
   "metadata": {},
   "outputs": [
    {
     "name": "stdout",
     "output_type": "stream",
     "text": [
      "Theta:       [1728327.79980669 2098703.68602144 1195470.56371486 2209165.19340967\n",
      " 1367919.51139601  553674.55222057  429149.54182832  277180.54548311\n",
      "  968208.08596343 1100637.17762072 1197297.70301025  641766.06641938]\n",
      "Train Loss:  [5.69688426e+11 5.69623127e+11 5.69558109e+11 5.69493370e+11\n",
      " 5.69428910e+11]\n",
      "Test Loss:   [7.29416085e+11 7.29266131e+11 7.29116664e+11 7.28967681e+11\n",
      " 7.28819179e+11]\n"
     ]
    },
    {
     "data": {
      "image/png": "[encoded data removed]",
      "text/plain": [
       "<Figure size 640x480 with 1 Axes>"
      ]
     },
     "metadata": {},
     "output_type": "display_data"
    }
   ],
   "source": [
    "# Training hyperparameters\n",
    "learning_rate = 0.1\n",
    "iterations = 500\n",
    "theta_0 = np.zeros(X.shape[1])\n",
    "\n",
    "# Train the model\n",
    "theta, cost_h, validation_h = grad_desc(iterations, theta_0, learning_rate, X, Y, X_test, Y_test)\n",
    "\n",
    "print(\"Theta:      \", theta)\n",
    "print(\"Train Loss: \", cost_h[-5:])\n",
    "print(\"Test Loss:  \", validation_h[-5:])\n",
    "\n",
    "# Plot the results\n",
    "plt.figure()\n",
    "plt.plot(range(1, iterations+1), cost_h, color=\"blue\", label=\"Training loss\", linewidth=1)\n",
    "plt.plot(range(1, iterations+1), validation_h, color=\"red\", label=\"Validation loss\", linewidth=1)\n",
    "plt.legend();"
   ]
  },
  {
   "cell_type": "markdown",
   "id": "344641e5",
   "metadata": {},
   "source": [
    "### Standardization Approach"
   ]
  },
  {
   "cell_type": "code",
   "execution_count": 14,
   "id": "73cc462a",
   "metadata": {},
   "outputs": [],
   "source": [
    "# Set up our training data\n",
    "Y = train.price.to_numpy()\n",
    "X = train[['area', 'bedrooms', 'bathrooms', 'stories', 'mainroad', 'guestroom',\n",
    "           'basement', 'hotwaterheating', 'airconditioning', 'parking', 'prefarea']].to_numpy()\n",
    "\n",
    "# Set up our testing data\n",
    "Y_test = test.price.to_numpy()\n",
    "X_test = test[['area', 'bedrooms', 'bathrooms', 'stories', 'mainroad', 'guestroom',\n",
    "           'basement', 'hotwaterheating', 'airconditioning', 'parking', 'prefarea']].to_numpy()\n",
    "\n",
    "# Scale features using standardization.\n",
    "scaler = preprocessing.StandardScaler()\n",
    "\n",
    "scaler.fit(X)\n",
    "X = scaler.transform(X)\n",
    "X_test = scaler.transform(X_test)\n",
    "\n",
    "# Add row of ones to each.\n",
    "X_0 = np.ones((len(X),1))\n",
    "X = np.hstack((X_0, X))\n",
    "\n",
    "X_0 = np.ones((len(X_test),1))\n",
    "X_test = np.hstack((X_0, X_test))"
   ]
  },
  {
   "cell_type": "code",
   "execution_count": 15,
   "id": "eab6d2e5",
   "metadata": {},
   "outputs": [
    {
     "name": "stdout",
     "output_type": "stream",
     "text": [
      "Theta:       [4721969.35861473  474754.25610075  140963.60234845  485297.79021511\n",
      "  367814.42145839  165319.53400566  150302.91107134  126117.37663448\n",
      "  212862.72577727  479675.09832774  269488.04818983  253466.1698595 ]\n",
      "Train Loss:  [5.53789487e+11 5.53645942e+11 5.53528760e+11 5.53433024e+11\n",
      " 5.53354740e+11]\n",
      "Test Loss:   [6.69664770e+11 6.69509469e+11 6.69373125e+11 6.69251917e+11\n",
      " 6.69142819e+11]\n"
     ]
    },
    {
     "data": {
      "image/png": "[encoded data removed]",
      "text/plain": [
       "<Figure size 640x480 with 1 Axes>"
      ]
     },
     "metadata": {},
     "output_type": "display_data"
    }
   ],
   "source": [
    "# Training hyperparameters\n",
    "learning_rate = 0.1\n",
    "iterations = 50\n",
    "theta_0 = np.zeros(X.shape[1])\n",
    "\n",
    "# Train the model\n",
    "theta, cost_h, validation_h = grad_desc(iterations, theta_0, learning_rate, X, Y, X_test, Y_test)\n",
    "\n",
    "print(\"Theta:      \", theta)\n",
    "print(\"Train Loss: \", cost_h[-5:])\n",
    "print(\"Test Loss:  \", validation_h[-5:])\n",
    "\n",
    "# Plot the results\n",
    "plt.figure()\n",
    "plt.plot(range(1, iterations+1), cost_h, color=\"blue\", label=\"Training loss\", linewidth=1)\n",
    "plt.plot(range(1, iterations+1), validation_h, color=\"red\", label=\"Validation loss\", linewidth=1)\n",
    "plt.legend();"
   ]
  },
  {
   "cell_type": "markdown",
   "id": "739ed057",
   "metadata": {},
   "source": [
    "## Problem 3"
   ]
  },
  {
   "cell_type": "code",
   "execution_count": 16,
   "id": "7db74432",
   "metadata": {},
   "outputs": [],
   "source": [
    "def cost(theta, X, Y):\n",
    "    error = X.dot(theta) - Y\n",
    "    cost = np.sum(np.square(error)) / (2* len(Y))\n",
    "    return cost\n",
    "\n",
    "def grad_desc(iterations, theta, learning_rate, reg_param, X, Y, X_test, Y_test):\n",
    "    cost_history = np.zeros(iterations)\n",
    "    val_history = np.zeros(iterations)\n",
    "    for i in range(iterations):\n",
    "        # Calculate parial derivatives\n",
    "        errors = X.dot(theta) - Y\n",
    "        partials = errors.dot(X)\n",
    "\n",
    "        # Calculate regularization terms (no regularization on the constant term)\n",
    "        regularization = reg_param * theta\n",
    "        regularization[0] = 0\n",
    "\n",
    "        # Update theta\n",
    "        theta -= (learning_rate / len(Y)) * (partials + regularization)\n",
    "\n",
    "        # Update losses\n",
    "        cost_history[i] = cost(theta, X,Y)\n",
    "        val_history[i] = cost(theta, X_test, Y_test)\n",
    "    return theta, cost_history, val_history"
   ]
  },
  {
   "cell_type": "markdown",
   "id": "932b9901",
   "metadata": {},
   "source": [
    "## Problem 3a"
   ]
  },
  {
   "cell_type": "code",
   "execution_count": 17,
   "id": "6f5326e2",
   "metadata": {},
   "outputs": [],
   "source": [
    "# Set up our training data\n",
    "Y = train.price.to_numpy()\n",
    "X = train[['area', 'bedrooms', 'bathrooms', 'stories', 'parking']].to_numpy()\n",
    "\n",
    "# Set up our testing data\n",
    "Y_test = test.price.to_numpy()\n",
    "X_test = test[['area', 'bedrooms', 'bathrooms', 'stories', 'parking']].to_numpy()\n",
    "\n",
    "# Scale features using standardization.\n",
    "scaler = preprocessing.StandardScaler()\n",
    "\n",
    "scaler.fit(X)\n",
    "X = scaler.transform(X)\n",
    "X_test = scaler.transform(X_test)\n",
    "\n",
    "# Add row of ones to each.\n",
    "X_0 = np.ones((len(X),1))\n",
    "X = np.hstack((X_0, X))\n",
    "\n",
    "X_0 = np.ones((len(X_test),1))\n",
    "X_test = np.hstack((X_0, X_test))"
   ]
  },
  {
   "cell_type": "code",
   "execution_count": 18,
   "id": "5f537654",
   "metadata": {},
   "outputs": [
    {
     "name": "stdout",
     "output_type": "stream",
     "text": [
      "Theta:       [4721969.35861473  574654.26540056  177956.9864179   488176.37403813\n",
      "  409096.70831121  304442.6416289 ]\n",
      "Train Loss:  [7.78457334e+11 7.78292086e+11 7.78154927e+11 7.78040798e+11\n",
      " 7.77945578e+11]\n",
      "Test Loss:   [8.08170994e+11 8.08028814e+11 8.07911973e+11 8.07815737e+11\n",
      " 8.07736271e+11]\n"
     ]
    },
    {
     "data": {
      "image/png": "[encoded data removed]",
      "text/plain": [
       "<Figure size 640x480 with 1 Axes>"
      ]
     },
     "metadata": {},
     "output_type": "display_data"
    }
   ],
   "source": [
    "# Training hyperparameters\n",
    "learning_rate = 0.1\n",
    "regularization_parameter = 100\n",
    "iterations = 50\n",
    "theta_0 = np.zeros(X.shape[1])\n",
    "\n",
    "# Train the model\n",
    "theta, cost_h, validation_h = grad_desc(iterations, theta_0, learning_rate, regularization_parameter, X, Y, X_test, Y_test)\n",
    "\n",
    "print(\"Theta:      \", theta)\n",
    "print(\"Train Loss: \", cost_h[-5:])\n",
    "print(\"Test Loss:  \", validation_h[-5:])\n",
    "\n",
    "# Plot the results\n",
    "plt.figure()\n",
    "plt.plot(range(1, iterations+1), cost_h, color=\"blue\", label=\"Training loss\", linewidth=1)\n",
    "plt.plot(range(1, iterations+1), validation_h, color=\"red\", label=\"Validation loss\", linewidth=1)\n",
    "plt.legend();"
   ]
  },
  {
   "cell_type": "markdown",
   "id": "16a91959",
   "metadata": {},
   "source": [
    "## Problem 3b\n",
    "Again, standardization worked best, so it is used again here."
   ]
  },
  {
   "cell_type": "code",
   "execution_count": 19,
   "id": "21a1667c",
   "metadata": {},
   "outputs": [],
   "source": [
    "# Set up our training data\n",
    "Y = train.price.to_numpy()\n",
    "X = train[['area', 'bedrooms', 'bathrooms', 'stories', 'mainroad', 'guestroom',\n",
    "           'basement', 'hotwaterheating', 'airconditioning', 'parking', 'prefarea']].to_numpy()\n",
    "\n",
    "# Set up our testing data\n",
    "Y_test = test.price.to_numpy()\n",
    "X_test = test[['area', 'bedrooms', 'bathrooms', 'stories', 'mainroad', 'guestroom',\n",
    "           'basement', 'hotwaterheating', 'airconditioning', 'parking', 'prefarea']].to_numpy()\n",
    "\n",
    "# Scale features using standardization.\n",
    "scaler = preprocessing.StandardScaler()\n",
    "\n",
    "scaler.fit(X)\n",
    "X = scaler.transform(X)\n",
    "X_test = scaler.transform(X_test)\n",
    "\n",
    "# Add row of ones to each.\n",
    "X_0 = np.ones((len(X),1))\n",
    "X = np.hstack((X_0, X))\n",
    "\n",
    "X_0 = np.ones((len(X_test),1))\n",
    "X_test = np.hstack((X_0, X_test))"
   ]
  },
  {
   "cell_type": "code",
   "execution_count": 20,
   "id": "0ec5dd56",
   "metadata": {},
   "outputs": [
    {
     "name": "stdout",
     "output_type": "stream",
     "text": [
      "Theta:       [4721969.35861473  418582.2304778   159095.1671327   426179.72573727\n",
      "  328620.39288149  166542.66014265  147613.12980978  110567.7926081\n",
      "  170763.44496666  420566.96969623  256860.56037681  228185.118415  ]\n",
      "Train Loss:  [5.65902673e+11 5.65750155e+11 5.65624611e+11 5.65521090e+11\n",
      " 5.65435565e+11]\n",
      "Test Loss:   [6.79498029e+11 6.79358223e+11 6.79242000e+11 6.79144907e+11\n",
      " 6.79063352e+11]\n"
     ]
    },
    {
     "data": {
      "image/png": "[encoded data removed]",
      "text/plain": [
       "<Figure size 640x480 with 1 Axes>"
      ]
     },
     "metadata": {},
     "output_type": "display_data"
    }
   ],
   "source": [
    "# Training hyperparameters\n",
    "learning_rate = 0.1\n",
    "regularization_parameter = 100\n",
    "iterations = 50\n",
    "theta_0 = np.zeros(X.shape[1])\n",
    "\n",
    "# Train the model\n",
    "theta, cost_h, validation_h = grad_desc(iterations, theta_0, learning_rate, regularization_parameter, X, Y, X_test, Y_test)\n",
    "\n",
    "print(\"Theta:      \", theta)\n",
    "print(\"Train Loss: \", cost_h[-5:])\n",
    "print(\"Test Loss:  \", validation_h[-5:])\n",
    "\n",
    "# Plot the results\n",
    "plt.figure()\n",
    "plt.plot(range(1, iterations+1), cost_h, color=\"blue\", label=\"Training loss\", linewidth=1)\n",
    "plt.plot(range(1, iterations+1), validation_h, color=\"red\", label=\"Validation loss\", linewidth=1)\n",
    "plt.legend();"
   ]
  }
 ],
 "metadata": {
  "kernelspec": {
   "display_name": "ml",
   "language": "python",
   "name": "python3"
  },
  "language_info": {
   "codemirror_mode": {
    "name": "ipython",
    "version": 3
   },
   "file_extension": ".py",
   "mimetype": "text/x-python",
   "name": "python",
   "nbconvert_exporter": "python",
   "pygments_lexer": "ipython3",
   "version": "3.12.7"
  }
 },
 "nbformat": 4,
 "nbformat_minor": 5
}
